{
 "cells": [
  {
   "cell_type": "markdown",
   "metadata": {},
   "source": [
    "# F-Log Gamut (Rec. 2020) to ACES AP0 Matrix Generation"
   ]
  },
  {
   "cell_type": "markdown",
   "metadata": {},
   "source": [
    "## Calculate F-Log Gamut (Rec. 2020) to AP0\n",
    "Here we implement the Rec. 2020 to AP0 matrix transformation as defined in the [F-Log DataSheet](https://www.fujifilm.com/support/digital_cameras/software/lut/pdf/F-Log_DataSheet_E_Ver.1.0.pdf)"
   ]
  },
  {
   "cell_type": "code",
   "execution_count": 1,
   "metadata": {
    "scrolled": true
   },
   "outputs": [
    {
     "output_type": "stream",
     "name": "stdout",
     "text": [
      "Wrote file mtx/rec2020_to_ap0.cat02.spimtx\n"
     ]
    }
   ],
   "source": [
    "import colour\n",
    "\n",
    "aces20651 = colour.RGB_COLOURSPACES[\"ACES2065-1\"]\n",
    "rec2020 = colour.RGB_COLOURSPACES[\"ITU-R BT.2020\"]\n",
    "xform_mat = colour.RGB_to_RGB_matrix(rec2020, aces20651, chromatic_adaptation_transform=\"CAT02\")\n",
    "\n",
    "spi_mtx_str = \"\"\"{} {} {} 0\n",
    "{} {} {} 0\n",
    "{} {} {} 0\n",
    "\"\"\".format(xform_mat[0][0], xform_mat[0][1], xform_mat[0][2],\n",
    "          xform_mat[1][0], xform_mat[1][1], xform_mat[1][2],\n",
    "          xform_mat[2][0], xform_mat[2][1], xform_mat[2][2],)\n",
    "\n",
    "output_file_path = \"mtx/rec2020_to_ap0.cat02.spimtx\"\n",
    "with open(output_file_path, \"w\") as mtx_file:\n",
    "    mtx_file.write(spi_mtx_str)\n",
    "print(\"Wrote file {}\".format(output_file_path))"
   ]
  },
  {
   "cell_type": "code",
   "execution_count": null,
   "metadata": {},
   "outputs": [],
   "source": []
  }
 ],
 "metadata": {
  "kernelspec": {
   "display_name": "Python 3",
   "language": "python",
   "name": "python3"
  },
  "language_info": {
   "codemirror_mode": {
    "name": "ipython",
    "version": 3
   },
   "file_extension": ".py",
   "mimetype": "text/x-python",
   "name": "python",
   "nbconvert_exporter": "python",
   "pygments_lexer": "ipython3",
   "version": "3.8.5-final"
  }
 },
 "nbformat": 4,
 "nbformat_minor": 2
}